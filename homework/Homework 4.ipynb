{
 "cells": [
  {
   "cell_type": "markdown",
   "metadata": {},
   "source": [
    "## Homework 4: Project definition\n",
    "\n",
    "*** Due: Monday, Feb 13th, 2019. ***\n",
    "\n",
    "The final project should be a data analysis or visualization written in a Jupyter notebook. It can use real or simulated data, apply different modeling techniques, include visualization of data (in as many dimensions as you are comfortable with). Overall the project should,\n",
    "- represent about 10-15 hours of work\n",
    "- include the analysis of a dataset or the visualization of a dataset\n",
    "- preferably be related to some research you are doing\n",
    "\n",
    "\n",
    "For this homework, write a **brief** description of the work you plan to do\n",
    "- what is the science objective (i.e. why are you doing this project)\n",
    "- what is the goal of the project (e.g. to visualize ZTF light curves)\n",
    "- what will the program do (e.g. read in a series of ZTF light curves and plot them as an interactive plot; fit a Lomb-Scargle periodogram and plot the sinusoid with the best fit period on top of the data; run this as a jupyter widget)\n",
    "- what are your data sets and deliverables \n",
    "\n",
    "Issue a pull request on the homework repository with the description in a Jupyter notebook (you will use this notebook for the project)\n"
   ]
  },
  {
   "cell_type": "code",
   "execution_count": null,
   "metadata": {},
   "outputs": [],
   "source": []
  }
 ],
 "metadata": {
  "kernelspec": {
   "display_name": "Python 3",
   "language": "python",
   "name": "python3"
  },
  "language_info": {
   "codemirror_mode": {
    "name": "ipython",
    "version": 3
   },
   "file_extension": ".py",
   "mimetype": "text/x-python",
   "name": "python",
   "nbconvert_exporter": "python",
   "pygments_lexer": "ipython3",
   "version": "3.6.8"
  }
 },
 "nbformat": 4,
 "nbformat_minor": 2
}
