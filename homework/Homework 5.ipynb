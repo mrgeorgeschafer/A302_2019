{
 "cells": [
  {
   "cell_type": "markdown",
   "metadata": {},
   "source": [
    "## Homework 5: Project definition\n",
    "\n",
    "*** Due: Wednesday, Feb 20th, 2019. ***\n",
    "\n",
    "Take the SDSS SQL Tutorial at:\n",
    "    \n",
    "    http://cas.sdss.org/dr14/en/help/howto/search/\n",
    "        \n",
    "to practice SQL, and familiarize yourselves with SDSS' SQL database language flavor and the [database schema](http://cas.sdss.org/dr14/en/help/browser/browser.asp). Also, open an account on [SDSS CASJobs] http://skyserver.sdss.org/casjobs/) (if you don't have one already.\n",
    "\n",
    "Then, write and execute a SQL query that returns the object ID (`bestObjID`), the ra, dec, and redshift (column `z`), of the five most distant quasars in a 2-degree circle around $\\alpha = 180^\\circ$, $\\delta = 60^\\circ$. Note: You don't have to use CASJobs to execute the query; you can use the boxes from tutorial pages, or the form [available here](https://skyserver.sdss.org/dr14/en/tools/search/sql.aspx).\n",
    "\n",
    "Download the resulting table in CSV format and include it with your homework.\n"
   ]
  },
  {
   "cell_type": "code",
   "execution_count": null,
   "metadata": {},
   "outputs": [],
   "source": []
  }
 ],
 "metadata": {
  "kernelspec": {
   "display_name": "Python 3",
   "language": "python",
   "name": "python3"
  },
  "language_info": {
   "codemirror_mode": {
    "name": "ipython",
    "version": 3
   },
   "file_extension": ".py",
   "mimetype": "text/x-python",
   "name": "python",
   "nbconvert_exporter": "python",
   "pygments_lexer": "ipython3",
   "version": "3.6.8"
  }
 },
 "nbformat": 4,
 "nbformat_minor": 2
}
