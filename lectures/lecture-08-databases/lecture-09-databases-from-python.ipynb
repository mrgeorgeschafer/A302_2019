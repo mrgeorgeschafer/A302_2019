{
 "cells": [
  {
   "cell_type": "markdown",
   "metadata": {},
   "source": [
    "# Working with databases from IPython"
   ]
  },
  {
   "cell_type": "markdown",
   "metadata": {},
   "source": [
    "This is a small example of using Pandas to create, connect to, and query a database\n",
    "\n",
    "Lets start by creating a database (using sqlite) and try some queries"
   ]
  },
  {
   "cell_type": "markdown",
   "metadata": {},
   "source": [
    "## Creating a toy database\n",
    "\n",
    "From the command line, let's create a new sqlite3 database named `sdss.db`:\n",
    "```bash\n",
    "$ sqlite3 sdss.db\n",
    "```\n",
    "\n",
    "This will open a `sqlite>` prompt. Now let's create the tables by running\n",
    "the following on the sqlite prompt:\n",
    "\n",
    "```sql\n",
    "sqlite> CREATE TABLE sources (\n",
    "    run         INTEGER,\n",
    "    rerun       INTEGER,\n",
    "    camcol      INTEGER,\n",
    "    field       INTEGER,\n",
    "    obj         INTEGER,\n",
    "    type        INTEGER,\n",
    "    ra          REAL,\n",
    "    dec         REAL,\n",
    "    psfMag_r    REAL,\n",
    "    psfMag_g    REAL,\n",
    "    psfMgErr_r  REAL,\n",
    "    psfMagErr_g REAL\n",
    ");\n",
    "\n",
    "sqlite> CREATE TABLE runs (\n",
    "    run         INTEGER,\n",
    "    ra          REAL,\n",
    "    dec         REAL,\n",
    "    mjdstart    REAL,\n",
    "    mjdend      REAL,\n",
    "    node        REAL,\n",
    "    inclination REAL,\n",
    "    mu0    REAL,\n",
    "    nu0    REAL\n",
    ");\n",
    "\n",
    "\n",
    "To find the sqlite commands\n",
    "\n",
    "sqlite> .help\n",
    "\n",
    "To see what we have created look at the tables we have created\n",
    "\n",
    "sqlite> .tables\n",
    "\n",
    "To see the structure (schema) of these tables\n",
    "\n",
    "sqlite> .schema\n",
    "\n",
    "sqlite> .quit\n",
    "```\n",
    "\n",
    "Don't forget the semicolons at the end!\n",
    "\n",
    "We need to massage the input data a bit before we can load them. In\n",
    "particular, sqlite won't know how to load data that begin with a header, so\n",
    "we'll just remove it manually. Do:\n",
    "\n",
    "```bash\n",
    "cp runs.txt runs.in\n",
    "# And then edit runs.in to remove the first line (the header)\n",
    "\n",
    "cp sample.csv sample.txt\n",
    "# And then edit sample.txt to remove the first line\n",
    "```\n",
    "\n",
    "Let's go back into sqlite, to do the import:\n",
    "```sql\n",
    "sqlite sdss.db\n",
    "\n",
    "sqlite> .mode csv\n",
    "sqlite> .separator \" \"\n",
    "sqlite> .import runs.in runs\n",
    "sqlite> .separator \",\"\n",
    "sqlite> .import sample.txt sources\n",
    "sqlite> .quit\n",
    "```\n",
    "\n",
    "At this point, you have a database with two tables. You can open and view it\n",
    "in sqlitebrowser (https://sqlitebrowser.org/dl/).\n",
    "\n",
    "For those on a Mac: The first time you run sqlite browser, you may need to\n",
    "right-click then select ‘Open’ while holding down the Option key.  This is\n",
    "to circumvent Mac's security requirement for signed binaries. Note: do not\n",
    "do this unless you trust the binary; being careful about security is good!"
   ]
  },
  {
   "cell_type": "markdown",
   "metadata": {},
   "source": [
    "## Practicing basic SQL\n",
    "\n",
    "Now let's practice some SQL queries:\n",
    "```sql\n",
    "SELECT ra, dec, psfMag_r FROM sources\n",
    "SELECT ra, dec, psfMag_r FROM sources WHERE psfMag_r < 21.5\n",
    "SELECT ra, dec, psfMag_r FROM sources WHERE psfMag_r < 21.5 LIMIT 5\n",
    "SELECT COUNT(psfMag_r), AVG(psfMag_r) FROM sources WHERE psfMag_r < 21.5\n",
    "SELECT COUNT(*), run FROM sources GROUP BY run\n",
    "SELECT COUNT(*), run FROM sources GROUP BY run ORDER BY run\n",
    "SELECT COUNT(*) as ct , run FROM sources GROUP BY run ORDER BY ct\n",
    "```\n",
    "\n",
    "## Practicing SQL Joins\n",
    "\n",
    "This query joins the data from two tables (sources and runs):\n",
    "\n",
    "```sql\n",
    "SELECT\n",
    "  sources.ra, sources.dec, sources.run, mjdstart\n",
    "FROM\n",
    "  sources JOIN runs ON sources.run = runs.run\n",
    "```"
   ]
  },
  {
   "cell_type": "code",
   "execution_count": 1,
   "metadata": {},
   "outputs": [],
   "source": [
    "import pandas as pd\n",
    "import numpy as np\n",
    "import sqlite3"
   ]
  },
  {
   "cell_type": "markdown",
   "metadata": {},
   "source": [
    "This deletes the database file, if it exists. It's to ensure we're starting from scratch"
   ]
  },
  {
   "cell_type": "code",
   "execution_count": 2,
   "metadata": {},
   "outputs": [],
   "source": [
    "import os\n",
    "try:\n",
    "    os.remove(\"msdss.db\")\n",
    "except OSError:\n",
    "    pass"
   ]
  },
  {
   "cell_type": "markdown",
   "metadata": {},
   "source": [
    "Connect to (\"open\") our SQLite database. If we were dealing with (for example) a MySQL database, this would make a connection to a MySQL server (that may be local to your machine, but also (more likely) somewhere else, on a remote server).\n",
    "\n",
    "If the database doesn't exist, SQLite's behavior is to automatically create it."
   ]
  },
  {
   "cell_type": "markdown",
   "metadata": {},
   "source": [
    "## Importing data"
   ]
  },
  {
   "cell_type": "code",
   "execution_count": 3,
   "metadata": {},
   "outputs": [],
   "source": [
    "con = sqlite3.connect(\"msdss.db\")"
   ]
  },
  {
   "cell_type": "markdown",
   "metadata": {},
   "source": [
    "Now we'll create the tables. The backticks -- the \\` characters -- are a way to quote names in SQLite's dialect of SQL. They're not strictly necessary here (they would be if, say, you wanted to name the table \"my sources\", i.e., have a whitespace as a part of the name)"
   ]
  },
  {
   "cell_type": "code",
   "execution_count": 4,
   "metadata": {},
   "outputs": [
    {
     "data": {
      "text/plain": [
       "<sqlite3.Cursor at 0x10b86c5e0>"
      ]
     },
     "execution_count": 4,
     "metadata": {},
     "output_type": "execute_result"
    }
   ],
   "source": [
    "con.execute(\"\"\"\n",
    "CREATE TABLE `sources` (\n",
    "    `run`      INTEGER,\n",
    "    `rerun`    INTEGER,\n",
    "    `camcol`   INTEGER,\n",
    "    `field`    INTEGER,\n",
    "    `obj`      INTEGER,\n",
    "    `type`     INTEGER,\n",
    "\n",
    "    `ra`          REAL,\n",
    "    `dec`         REAL,\n",
    "    `psfMag_r`    REAL,\n",
    "    `psfMag_g`    REAL,\n",
    "    `psfMagErr_r` REAL,\n",
    "    `psfMagErr_g` REAL\n",
    ");\n",
    "\"\"\")"
   ]
  },
  {
   "cell_type": "code",
   "execution_count": 5,
   "metadata": {},
   "outputs": [
    {
     "data": {
      "text/plain": [
       "<sqlite3.Cursor at 0x10b86c570>"
      ]
     },
     "execution_count": 5,
     "metadata": {},
     "output_type": "execute_result"
    }
   ],
   "source": [
    "con.execute(\"\"\"\n",
    "CREATE TABLE `runs` (\n",
    "    `run`         INTEGER,\n",
    "    `ra`          REAL,\n",
    "    `dec`         REAL,\n",
    "    `mjdstart`    REAL,\n",
    "    `mjdend`      REAL,\n",
    "    `node`        REAL,\n",
    "    `inclination` REAL,\n",
    "    `mu0`         REAL,\n",
    "    `nu0`         REAL\n",
    ");\n",
    "\"\"\")"
   ]
  },
  {
   "cell_type": "markdown",
   "metadata": {},
   "source": [
    "Here we use pandas' `read_cvs` function to read the `runs.txt` file into memory. This is very similar to `np.genfromtxt` and `np.loadtext`, but much more powerful. See the documentation for details.\n",
    "\n",
    "One particular thing to note is the `index_col` keyword. It tells Pandas which column can be used to uniquely refer to any row."
   ]
  },
  {
   "cell_type": "code",
   "execution_count": 42,
   "metadata": {},
   "outputs": [],
   "source": [
    "runs = pd.read_csv('runs.txt', \n",
    "            sep=\" \", header=None, skiprows=1, \n",
    "            names=['run', 'ra', 'dec', 'mjdstart', 'mjdend', 'node', 'inclination', 'mu0', 'nu0'],\n",
    "            index_col = 'run')"
   ]
  },
  {
   "cell_type": "markdown",
   "metadata": {},
   "source": [
    "Pandas loaded the contents of `runs.txt` into its own data structure called a `DataFrame`. For now, think of a data frame as a table."
   ]
  },
  {
   "cell_type": "code",
   "execution_count": 43,
   "metadata": {},
   "outputs": [
    {
     "data": {
      "text/plain": [
       "pandas.core.frame.DataFrame"
      ]
     },
     "execution_count": 43,
     "metadata": {},
     "output_type": "execute_result"
    }
   ],
   "source": [
    "type(runs)"
   ]
  },
  {
   "cell_type": "markdown",
   "metadata": {},
   "source": [
    "You can generally use a `DataFrame` the same way you'd use a numpy array (i.e., subscripting and slicing works)"
   ]
  },
  {
   "cell_type": "code",
   "execution_count": 44,
   "metadata": {},
   "outputs": [
    {
     "data": {
      "text/html": [
       "<div>\n",
       "<style scoped>\n",
       "    .dataframe tbody tr th:only-of-type {\n",
       "        vertical-align: middle;\n",
       "    }\n",
       "\n",
       "    .dataframe tbody tr th {\n",
       "        vertical-align: top;\n",
       "    }\n",
       "\n",
       "    .dataframe thead th {\n",
       "        text-align: right;\n",
       "    }\n",
       "</style>\n",
       "<table border=\"1\" class=\"dataframe\">\n",
       "  <thead>\n",
       "    <tr style=\"text-align: right;\">\n",
       "      <th></th>\n",
       "      <th>ra</th>\n",
       "      <th>dec</th>\n",
       "      <th>mjdstart</th>\n",
       "      <th>mjdend</th>\n",
       "      <th>node</th>\n",
       "      <th>inclination</th>\n",
       "      <th>mu0</th>\n",
       "      <th>nu0</th>\n",
       "    </tr>\n",
       "    <tr>\n",
       "      <th>run</th>\n",
       "      <th></th>\n",
       "      <th></th>\n",
       "      <th></th>\n",
       "      <th></th>\n",
       "      <th></th>\n",
       "      <th></th>\n",
       "      <th></th>\n",
       "      <th></th>\n",
       "    </tr>\n",
       "  </thead>\n",
       "  <tbody>\n",
       "    <tr>\n",
       "      <th>94</th>\n",
       "      <td>336.432779</td>\n",
       "      <td>-1.044294</td>\n",
       "      <td>51075.233211</td>\n",
       "      <td>51075.455014</td>\n",
       "      <td>286.855205</td>\n",
       "      <td>0.009477</td>\n",
       "      <td>336.432667</td>\n",
       "      <td>-1.051509</td>\n",
       "    </tr>\n",
       "    <tr>\n",
       "      <th>109</th>\n",
       "      <td>396.241809</td>\n",
       "      <td>-1.250557</td>\n",
       "      <td>51078.390783</td>\n",
       "      <td>51078.474944</td>\n",
       "      <td>283.391747</td>\n",
       "      <td>0.008279</td>\n",
       "      <td>36.241879</td>\n",
       "      <td>-1.258186</td>\n",
       "    </tr>\n",
       "    <tr>\n",
       "      <th>125</th>\n",
       "      <td>350.469743</td>\n",
       "      <td>-1.252750</td>\n",
       "      <td>51081.255759</td>\n",
       "      <td>51081.495289</td>\n",
       "      <td>287.818732</td>\n",
       "      <td>0.007781</td>\n",
       "      <td>350.469664</td>\n",
       "      <td>-1.259661</td>\n",
       "    </tr>\n",
       "    <tr>\n",
       "      <th>211</th>\n",
       "      <td>402.581109</td>\n",
       "      <td>-1.265170</td>\n",
       "      <td>51115.307000</td>\n",
       "      <td>51115.462055</td>\n",
       "      <td>283.219780</td>\n",
       "      <td>0.007975</td>\n",
       "      <td>42.581196</td>\n",
       "      <td>-1.272121</td>\n",
       "    </tr>\n",
       "    <tr>\n",
       "      <th>240</th>\n",
       "      <td>375.189678</td>\n",
       "      <td>-1.264403</td>\n",
       "      <td>51132.185032</td>\n",
       "      <td>51132.248851</td>\n",
       "      <td>290.578187</td>\n",
       "      <td>0.010103</td>\n",
       "      <td>15.189657</td>\n",
       "      <td>-1.274462</td>\n",
       "    </tr>\n",
       "  </tbody>\n",
       "</table>\n",
       "</div>"
      ],
      "text/plain": [
       "             ra       dec      mjdstart        mjdend        node  \\\n",
       "run                                                                 \n",
       "94   336.432779 -1.044294  51075.233211  51075.455014  286.855205   \n",
       "109  396.241809 -1.250557  51078.390783  51078.474944  283.391747   \n",
       "125  350.469743 -1.252750  51081.255759  51081.495289  287.818732   \n",
       "211  402.581109 -1.265170  51115.307000  51115.462055  283.219780   \n",
       "240  375.189678 -1.264403  51132.185032  51132.248851  290.578187   \n",
       "\n",
       "     inclination         mu0       nu0  \n",
       "run                                     \n",
       "94      0.009477  336.432667 -1.051509  \n",
       "109     0.008279   36.241879 -1.258186  \n",
       "125     0.007781  350.469664 -1.259661  \n",
       "211     0.007975   42.581196 -1.272121  \n",
       "240     0.010103   15.189657 -1.274462  "
      ]
     },
     "execution_count": 44,
     "metadata": {},
     "output_type": "execute_result"
    }
   ],
   "source": [
    "runs[:5]"
   ]
  },
  {
   "cell_type": "markdown",
   "metadata": {},
   "source": [
    "Pandas does its best to infer the correct data types for the data in the file. Let's see what it did for this file:"
   ]
  },
  {
   "cell_type": "code",
   "execution_count": 9,
   "metadata": {},
   "outputs": [
    {
     "data": {
      "text/plain": [
       "ra             float64\n",
       "dec            float64\n",
       "mjdstart       float64\n",
       "mjdend         float64\n",
       "node           float64\n",
       "inclination    float64\n",
       "mu0            float64\n",
       "nu0            float64\n",
       "dtype: object"
      ]
     },
     "execution_count": 9,
     "metadata": {},
     "output_type": "execute_result"
    }
   ],
   "source": [
    "runs.dtypes"
   ]
  },
  {
   "cell_type": "markdown",
   "metadata": {},
   "source": [
    "Now, let's load the sources:"
   ]
  },
  {
   "cell_type": "code",
   "execution_count": 29,
   "metadata": {},
   "outputs": [],
   "source": [
    "sources = pd.read_csv('sample.csv', index_col=['run', 'rerun', 'camcol', 'field', 'obj'])"
   ]
  },
  {
   "cell_type": "code",
   "execution_count": 30,
   "metadata": {},
   "outputs": [
    {
     "data": {
      "text/plain": [
       "type             int64\n",
       "ra             float64\n",
       "dec            float64\n",
       "psfMag_r       float64\n",
       "psfMag_g       float64\n",
       "psfMagErr_r    float64\n",
       "psfMagErr_g    float64\n",
       "dtype: object"
      ]
     },
     "execution_count": 30,
     "metadata": {},
     "output_type": "execute_result"
    }
   ],
   "source": [
    "sources.dtypes"
   ]
  },
  {
   "cell_type": "markdown",
   "metadata": {},
   "source": [
    "You can be explicit about column datatypes:"
   ]
  },
  {
   "cell_type": "code",
   "execution_count": 31,
   "metadata": {},
   "outputs": [],
   "source": [
    "sources = pd.read_csv('sample.csv',\n",
    "                        dtype={\n",
    "                                'run': np.int16,\n",
    "                                'rerun': np.int16,\n",
    "                                'camcol': np.int8,\n",
    "                                'field': np.int16,\n",
    "                                'obj':  np.int32,\n",
    "                                'type': np.int16,\n",
    "                                'psfMag_r': np.float32,\n",
    "                                'psfMag_g': np.float32,\n",
    "                                'psfMagErr_r': np.float32,\n",
    "                                'psfMagErr_g': np.float32,\n",
    "                              },\n",
    "                        index_col=['run', 'rerun', 'camcol', 'field', 'obj'])"
   ]
  },
  {
   "cell_type": "code",
   "execution_count": 32,
   "metadata": {},
   "outputs": [
    {
     "data": {
      "text/plain": [
       "type             int16\n",
       "ra             float64\n",
       "dec            float64\n",
       "psfMag_r       float32\n",
       "psfMag_g       float32\n",
       "psfMagErr_r    float32\n",
       "psfMagErr_g    float32\n",
       "dtype: object"
      ]
     },
     "execution_count": 32,
     "metadata": {},
     "output_type": "execute_result"
    }
   ],
   "source": [
    "sources.dtypes"
   ]
  },
  {
   "cell_type": "markdown",
   "metadata": {},
   "source": [
    "Can we deal with missing data?"
   ]
  },
  {
   "cell_type": "code",
   "execution_count": 33,
   "metadata": {},
   "outputs": [
    {
     "data": {
      "text/html": [
       "<div>\n",
       "<style scoped>\n",
       "    .dataframe tbody tr th:only-of-type {\n",
       "        vertical-align: middle;\n",
       "    }\n",
       "\n",
       "    .dataframe tbody tr th {\n",
       "        vertical-align: top;\n",
       "    }\n",
       "\n",
       "    .dataframe thead th {\n",
       "        text-align: right;\n",
       "    }\n",
       "</style>\n",
       "<table border=\"1\" class=\"dataframe\">\n",
       "  <thead>\n",
       "    <tr style=\"text-align: right;\">\n",
       "      <th></th>\n",
       "      <th></th>\n",
       "      <th></th>\n",
       "      <th></th>\n",
       "      <th></th>\n",
       "      <th>type</th>\n",
       "      <th>ra</th>\n",
       "      <th>dec</th>\n",
       "      <th>psfMag_r</th>\n",
       "      <th>psfMag_g</th>\n",
       "      <th>psfMagErr_r</th>\n",
       "      <th>psfMagErr_g</th>\n",
       "    </tr>\n",
       "    <tr>\n",
       "      <th>run</th>\n",
       "      <th>rerun</th>\n",
       "      <th>camcol</th>\n",
       "      <th>field</th>\n",
       "      <th>obj</th>\n",
       "      <th></th>\n",
       "      <th></th>\n",
       "      <th></th>\n",
       "      <th></th>\n",
       "      <th></th>\n",
       "      <th></th>\n",
       "      <th></th>\n",
       "    </tr>\n",
       "  </thead>\n",
       "  <tbody>\n",
       "    <tr>\n",
       "      <th rowspan=\"3\" valign=\"top\">3366</th>\n",
       "      <th rowspan=\"3\" valign=\"top\">301</th>\n",
       "      <th rowspan=\"3\" valign=\"top\">1</th>\n",
       "      <th rowspan=\"3\" valign=\"top\">80</th>\n",
       "      <th>3009</th>\n",
       "      <td>0</td>\n",
       "      <td>12.231521</td>\n",
       "      <td>41.113295</td>\n",
       "      <td>-9999.0</td>\n",
       "      <td>-9999.0</td>\n",
       "      <td>-9999.0</td>\n",
       "      <td>-9999.0</td>\n",
       "    </tr>\n",
       "    <tr>\n",
       "      <th>3010</th>\n",
       "      <td>0</td>\n",
       "      <td>12.082267</td>\n",
       "      <td>41.206067</td>\n",
       "      <td>-9999.0</td>\n",
       "      <td>-9999.0</td>\n",
       "      <td>-9999.0</td>\n",
       "      <td>-9999.0</td>\n",
       "    </tr>\n",
       "    <tr>\n",
       "      <th>3011</th>\n",
       "      <td>0</td>\n",
       "      <td>12.184899</td>\n",
       "      <td>41.142380</td>\n",
       "      <td>-9999.0</td>\n",
       "      <td>-9999.0</td>\n",
       "      <td>-9999.0</td>\n",
       "      <td>-9999.0</td>\n",
       "    </tr>\n",
       "    <tr>\n",
       "      <th>3996</th>\n",
       "      <th>301</th>\n",
       "      <th>1</th>\n",
       "      <th>162</th>\n",
       "      <th>1413</th>\n",
       "      <td>0</td>\n",
       "      <td>228.319441</td>\n",
       "      <td>9.958091</td>\n",
       "      <td>-9999.0</td>\n",
       "      <td>-9999.0</td>\n",
       "      <td>-9999.0</td>\n",
       "      <td>-9999.0</td>\n",
       "    </tr>\n",
       "    <tr>\n",
       "      <th>4894</th>\n",
       "      <th>301</th>\n",
       "      <th>1</th>\n",
       "      <th>174</th>\n",
       "      <th>592</th>\n",
       "      <td>0</td>\n",
       "      <td>352.075004</td>\n",
       "      <td>-0.932815</td>\n",
       "      <td>-9999.0</td>\n",
       "      <td>-9999.0</td>\n",
       "      <td>-9999.0</td>\n",
       "      <td>-9999.0</td>\n",
       "    </tr>\n",
       "  </tbody>\n",
       "</table>\n",
       "</div>"
      ],
      "text/plain": [
       "                              type          ra        dec  psfMag_r  psfMag_g  \\\n",
       "run  rerun camcol field obj                                                     \n",
       "3366 301   1      80    3009     0   12.231521  41.113295   -9999.0   -9999.0   \n",
       "                        3010     0   12.082267  41.206067   -9999.0   -9999.0   \n",
       "                        3011     0   12.184899  41.142380   -9999.0   -9999.0   \n",
       "3996 301   1      162   1413     0  228.319441   9.958091   -9999.0   -9999.0   \n",
       "4894 301   1      174   592      0  352.075004  -0.932815   -9999.0   -9999.0   \n",
       "\n",
       "                              psfMagErr_r  psfMagErr_g  \n",
       "run  rerun camcol field obj                             \n",
       "3366 301   1      80    3009      -9999.0      -9999.0  \n",
       "                        3010      -9999.0      -9999.0  \n",
       "                        3011      -9999.0      -9999.0  \n",
       "3996 301   1      162   1413      -9999.0      -9999.0  \n",
       "4894 301   1      174   592       -9999.0      -9999.0  "
      ]
     },
     "execution_count": 33,
     "metadata": {},
     "output_type": "execute_result"
    }
   ],
   "source": [
    "sources[sources[\"psfMagErr_g\"] < 0][:5]"
   ]
  },
  {
   "cell_type": "code",
   "execution_count": 34,
   "metadata": {},
   "outputs": [],
   "source": [
    "sources = pd.read_csv('sample.csv',\n",
    "                        dtype={\n",
    "                                'run': np.int16,\n",
    "                                'rerun': np.int16,\n",
    "                                'camcol': np.int8,\n",
    "                                'field': np.int16,\n",
    "                                'obj':  np.int32,\n",
    "                                'type': np.int16,\n",
    "                                'psfMag_r': np.float32,\n",
    "                                'psfMag_g': np.float32,\n",
    "                                'psfMagErr_r': np.float32,\n",
    "                                'psfMagErr_g': np.float32,\n",
    "                              },\n",
    "                        index_col=['run', 'rerun', 'camcol', 'field', 'obj'],\n",
    "                        na_values=[\"-9999\"])"
   ]
  },
  {
   "cell_type": "markdown",
   "metadata": {},
   "source": [
    "No more -9999s!"
   ]
  },
  {
   "cell_type": "code",
   "execution_count": 37,
   "metadata": {},
   "outputs": [
    {
     "data": {
      "text/html": [
       "<div>\n",
       "<style scoped>\n",
       "    .dataframe tbody tr th:only-of-type {\n",
       "        vertical-align: middle;\n",
       "    }\n",
       "\n",
       "    .dataframe tbody tr th {\n",
       "        vertical-align: top;\n",
       "    }\n",
       "\n",
       "    .dataframe thead th {\n",
       "        text-align: right;\n",
       "    }\n",
       "</style>\n",
       "<table border=\"1\" class=\"dataframe\">\n",
       "  <thead>\n",
       "    <tr style=\"text-align: right;\">\n",
       "      <th></th>\n",
       "      <th></th>\n",
       "      <th></th>\n",
       "      <th></th>\n",
       "      <th></th>\n",
       "      <th>type</th>\n",
       "      <th>ra</th>\n",
       "      <th>dec</th>\n",
       "      <th>psfMag_r</th>\n",
       "      <th>psfMag_g</th>\n",
       "      <th>psfMagErr_r</th>\n",
       "      <th>psfMagErr_g</th>\n",
       "    </tr>\n",
       "    <tr>\n",
       "      <th>run</th>\n",
       "      <th>rerun</th>\n",
       "      <th>camcol</th>\n",
       "      <th>field</th>\n",
       "      <th>obj</th>\n",
       "      <th></th>\n",
       "      <th></th>\n",
       "      <th></th>\n",
       "      <th></th>\n",
       "      <th></th>\n",
       "      <th></th>\n",
       "      <th></th>\n",
       "    </tr>\n",
       "  </thead>\n",
       "  <tbody>\n",
       "  </tbody>\n",
       "</table>\n",
       "</div>"
      ],
      "text/plain": [
       "Empty DataFrame\n",
       "Columns: [type, ra, dec, psfMag_r, psfMag_g, psfMagErr_r, psfMagErr_g]\n",
       "Index: []"
      ]
     },
     "execution_count": 37,
     "metadata": {},
     "output_type": "execute_result"
    }
   ],
   "source": [
    "sources[sources[\"psfMagErr_g\"] < 0][:5]"
   ]
  },
  {
   "cell_type": "markdown",
   "metadata": {},
   "source": [
    "Now there are NaNs:"
   ]
  },
  {
   "cell_type": "code",
   "execution_count": 38,
   "metadata": {},
   "outputs": [
    {
     "data": {
      "text/html": [
       "<div>\n",
       "<style scoped>\n",
       "    .dataframe tbody tr th:only-of-type {\n",
       "        vertical-align: middle;\n",
       "    }\n",
       "\n",
       "    .dataframe tbody tr th {\n",
       "        vertical-align: top;\n",
       "    }\n",
       "\n",
       "    .dataframe thead th {\n",
       "        text-align: right;\n",
       "    }\n",
       "</style>\n",
       "<table border=\"1\" class=\"dataframe\">\n",
       "  <thead>\n",
       "    <tr style=\"text-align: right;\">\n",
       "      <th></th>\n",
       "      <th></th>\n",
       "      <th></th>\n",
       "      <th></th>\n",
       "      <th></th>\n",
       "      <th>type</th>\n",
       "      <th>ra</th>\n",
       "      <th>dec</th>\n",
       "      <th>psfMag_r</th>\n",
       "      <th>psfMag_g</th>\n",
       "      <th>psfMagErr_r</th>\n",
       "      <th>psfMagErr_g</th>\n",
       "    </tr>\n",
       "    <tr>\n",
       "      <th>run</th>\n",
       "      <th>rerun</th>\n",
       "      <th>camcol</th>\n",
       "      <th>field</th>\n",
       "      <th>obj</th>\n",
       "      <th></th>\n",
       "      <th></th>\n",
       "      <th></th>\n",
       "      <th></th>\n",
       "      <th></th>\n",
       "      <th></th>\n",
       "      <th></th>\n",
       "    </tr>\n",
       "  </thead>\n",
       "  <tbody>\n",
       "    <tr>\n",
       "      <th rowspan=\"3\" valign=\"top\">3366</th>\n",
       "      <th rowspan=\"3\" valign=\"top\">301</th>\n",
       "      <th rowspan=\"3\" valign=\"top\">1</th>\n",
       "      <th rowspan=\"3\" valign=\"top\">80</th>\n",
       "      <th>3009</th>\n",
       "      <td>0</td>\n",
       "      <td>12.231521</td>\n",
       "      <td>41.113295</td>\n",
       "      <td>NaN</td>\n",
       "      <td>NaN</td>\n",
       "      <td>NaN</td>\n",
       "      <td>NaN</td>\n",
       "    </tr>\n",
       "    <tr>\n",
       "      <th>3010</th>\n",
       "      <td>0</td>\n",
       "      <td>12.082267</td>\n",
       "      <td>41.206067</td>\n",
       "      <td>NaN</td>\n",
       "      <td>NaN</td>\n",
       "      <td>NaN</td>\n",
       "      <td>NaN</td>\n",
       "    </tr>\n",
       "    <tr>\n",
       "      <th>3011</th>\n",
       "      <td>0</td>\n",
       "      <td>12.184899</td>\n",
       "      <td>41.142380</td>\n",
       "      <td>NaN</td>\n",
       "      <td>NaN</td>\n",
       "      <td>NaN</td>\n",
       "      <td>NaN</td>\n",
       "    </tr>\n",
       "    <tr>\n",
       "      <th>3996</th>\n",
       "      <th>301</th>\n",
       "      <th>1</th>\n",
       "      <th>162</th>\n",
       "      <th>1413</th>\n",
       "      <td>0</td>\n",
       "      <td>228.319441</td>\n",
       "      <td>9.958091</td>\n",
       "      <td>NaN</td>\n",
       "      <td>NaN</td>\n",
       "      <td>NaN</td>\n",
       "      <td>NaN</td>\n",
       "    </tr>\n",
       "    <tr>\n",
       "      <th>4894</th>\n",
       "      <th>301</th>\n",
       "      <th>1</th>\n",
       "      <th>174</th>\n",
       "      <th>592</th>\n",
       "      <td>0</td>\n",
       "      <td>352.075004</td>\n",
       "      <td>-0.932815</td>\n",
       "      <td>NaN</td>\n",
       "      <td>NaN</td>\n",
       "      <td>NaN</td>\n",
       "      <td>NaN</td>\n",
       "    </tr>\n",
       "  </tbody>\n",
       "</table>\n",
       "</div>"
      ],
      "text/plain": [
       "                              type          ra        dec  psfMag_r  psfMag_g  \\\n",
       "run  rerun camcol field obj                                                     \n",
       "3366 301   1      80    3009     0   12.231521  41.113295       NaN       NaN   \n",
       "                        3010     0   12.082267  41.206067       NaN       NaN   \n",
       "                        3011     0   12.184899  41.142380       NaN       NaN   \n",
       "3996 301   1      162   1413     0  228.319441   9.958091       NaN       NaN   \n",
       "4894 301   1      174   592      0  352.075004  -0.932815       NaN       NaN   \n",
       "\n",
       "                              psfMagErr_r  psfMagErr_g  \n",
       "run  rerun camcol field obj                             \n",
       "3366 301   1      80    3009          NaN          NaN  \n",
       "                        3010          NaN          NaN  \n",
       "                        3011          NaN          NaN  \n",
       "3996 301   1      162   1413          NaN          NaN  \n",
       "4894 301   1      174   592           NaN          NaN  "
      ]
     },
     "execution_count": 38,
     "metadata": {},
     "output_type": "execute_result"
    }
   ],
   "source": [
    "sources[sources[\"psfMagErr_g\"].isnull()][:5]"
   ]
  },
  {
   "cell_type": "markdown",
   "metadata": {},
   "source": [
    "Let's be a bit more specific about where -9999 is to be considered as a marker for missing data:"
   ]
  },
  {
   "cell_type": "code",
   "execution_count": 45,
   "metadata": {},
   "outputs": [
    {
     "name": "stdout",
     "output_type": "stream",
     "text": [
      "Tokenization took: 51.43 ms\n",
      "Type conversion took: 54.77 ms\n",
      "Parser memory cleanup took: 0.03 ms\n"
     ]
    }
   ],
   "source": [
    "sources = pd.read_csv('sample.csv',\n",
    "                        dtype={\n",
    "                                'run': np.int16,\n",
    "                                'rerun': np.int16,\n",
    "                                'camcol': np.int8,\n",
    "                                'field': np.int16,\n",
    "                                'obj':  np.int32,\n",
    "                                'type': np.int16,\n",
    "                                'psfMag_r': np.float32,\n",
    "                                'psfMag_g': np.float32,\n",
    "                                'psfMagErr_r': np.float32,\n",
    "                                'psfMagErr_g': np.float32,\n",
    "                              },\n",
    "                       index_col=['run', 'rerun', 'camcol', 'field', 'obj'],\n",
    "                       na_values={\n",
    "                            'psfMagErr_g': [\"-9999\"],\n",
    "                            'psfMagErr_r': [\"-9999\"],\n",
    "                            'psfMag_g': [\"-9999\"],\n",
    "                            'psfMag_r': [\"-9999\"],\n",
    "                       },\n",
    "                       verbose=True\n",
    "                     )"
   ]
  },
  {
   "cell_type": "code",
   "execution_count": 46,
   "metadata": {},
   "outputs": [
    {
     "data": {
      "text/html": [
       "<div>\n",
       "<style scoped>\n",
       "    .dataframe tbody tr th:only-of-type {\n",
       "        vertical-align: middle;\n",
       "    }\n",
       "\n",
       "    .dataframe tbody tr th {\n",
       "        vertical-align: top;\n",
       "    }\n",
       "\n",
       "    .dataframe thead th {\n",
       "        text-align: right;\n",
       "    }\n",
       "</style>\n",
       "<table border=\"1\" class=\"dataframe\">\n",
       "  <thead>\n",
       "    <tr style=\"text-align: right;\">\n",
       "      <th></th>\n",
       "      <th></th>\n",
       "      <th></th>\n",
       "      <th></th>\n",
       "      <th></th>\n",
       "      <th>type</th>\n",
       "      <th>ra</th>\n",
       "      <th>dec</th>\n",
       "      <th>psfMag_r</th>\n",
       "      <th>psfMag_g</th>\n",
       "      <th>psfMagErr_r</th>\n",
       "      <th>psfMagErr_g</th>\n",
       "    </tr>\n",
       "    <tr>\n",
       "      <th>run</th>\n",
       "      <th>rerun</th>\n",
       "      <th>camcol</th>\n",
       "      <th>field</th>\n",
       "      <th>obj</th>\n",
       "      <th></th>\n",
       "      <th></th>\n",
       "      <th></th>\n",
       "      <th></th>\n",
       "      <th></th>\n",
       "      <th></th>\n",
       "      <th></th>\n",
       "    </tr>\n",
       "  </thead>\n",
       "  <tbody>\n",
       "    <tr>\n",
       "      <th rowspan=\"3\" valign=\"top\">3366</th>\n",
       "      <th rowspan=\"3\" valign=\"top\">301</th>\n",
       "      <th rowspan=\"3\" valign=\"top\">1</th>\n",
       "      <th rowspan=\"3\" valign=\"top\">80</th>\n",
       "      <th>3009</th>\n",
       "      <td>0</td>\n",
       "      <td>12.231521</td>\n",
       "      <td>41.113295</td>\n",
       "      <td>NaN</td>\n",
       "      <td>NaN</td>\n",
       "      <td>NaN</td>\n",
       "      <td>NaN</td>\n",
       "    </tr>\n",
       "    <tr>\n",
       "      <th>3010</th>\n",
       "      <td>0</td>\n",
       "      <td>12.082267</td>\n",
       "      <td>41.206067</td>\n",
       "      <td>NaN</td>\n",
       "      <td>NaN</td>\n",
       "      <td>NaN</td>\n",
       "      <td>NaN</td>\n",
       "    </tr>\n",
       "    <tr>\n",
       "      <th>3011</th>\n",
       "      <td>0</td>\n",
       "      <td>12.184899</td>\n",
       "      <td>41.142380</td>\n",
       "      <td>NaN</td>\n",
       "      <td>NaN</td>\n",
       "      <td>NaN</td>\n",
       "      <td>NaN</td>\n",
       "    </tr>\n",
       "    <tr>\n",
       "      <th>3996</th>\n",
       "      <th>301</th>\n",
       "      <th>1</th>\n",
       "      <th>162</th>\n",
       "      <th>1413</th>\n",
       "      <td>0</td>\n",
       "      <td>228.319441</td>\n",
       "      <td>9.958091</td>\n",
       "      <td>NaN</td>\n",
       "      <td>NaN</td>\n",
       "      <td>NaN</td>\n",
       "      <td>NaN</td>\n",
       "    </tr>\n",
       "    <tr>\n",
       "      <th>4894</th>\n",
       "      <th>301</th>\n",
       "      <th>1</th>\n",
       "      <th>174</th>\n",
       "      <th>592</th>\n",
       "      <td>0</td>\n",
       "      <td>352.075004</td>\n",
       "      <td>-0.932815</td>\n",
       "      <td>NaN</td>\n",
       "      <td>NaN</td>\n",
       "      <td>NaN</td>\n",
       "      <td>NaN</td>\n",
       "    </tr>\n",
       "  </tbody>\n",
       "</table>\n",
       "</div>"
      ],
      "text/plain": [
       "                              type          ra        dec  psfMag_r  psfMag_g  \\\n",
       "run  rerun camcol field obj                                                     \n",
       "3366 301   1      80    3009     0   12.231521  41.113295       NaN       NaN   \n",
       "                        3010     0   12.082267  41.206067       NaN       NaN   \n",
       "                        3011     0   12.184899  41.142380       NaN       NaN   \n",
       "3996 301   1      162   1413     0  228.319441   9.958091       NaN       NaN   \n",
       "4894 301   1      174   592      0  352.075004  -0.932815       NaN       NaN   \n",
       "\n",
       "                              psfMagErr_r  psfMagErr_g  \n",
       "run  rerun camcol field obj                             \n",
       "3366 301   1      80    3009          NaN          NaN  \n",
       "                        3010          NaN          NaN  \n",
       "                        3011          NaN          NaN  \n",
       "3996 301   1      162   1413          NaN          NaN  \n",
       "4894 301   1      174   592           NaN          NaN  "
      ]
     },
     "execution_count": 46,
     "metadata": {},
     "output_type": "execute_result"
    }
   ],
   "source": [
    "sources[sources[\"psfMagErr_g\"].isnull()][:5]"
   ]
  },
  {
   "cell_type": "markdown",
   "metadata": {},
   "source": [
    "Now, store this into our database"
   ]
  },
  {
   "cell_type": "code",
   "execution_count": 48,
   "metadata": {},
   "outputs": [],
   "source": [
    "runs.to_sql?"
   ]
  },
  {
   "cell_type": "code",
   "execution_count": 47,
   "metadata": {},
   "outputs": [],
   "source": [
    "runs.to_sql('runs', con, if_exists='append')"
   ]
  },
  {
   "cell_type": "code",
   "execution_count": 49,
   "metadata": {},
   "outputs": [],
   "source": [
    "sources.to_sql('sources', con, if_exists='append')"
   ]
  },
  {
   "cell_type": "markdown",
   "metadata": {},
   "source": [
    "It's good practice to close the database when you're done with it. This ensures the memory is freed, and there are no open connections to the database left lingering (i.e., if the database limits the number of possible simultaneous connections, this may be important)."
   ]
  },
  {
   "cell_type": "code",
   "execution_count": 50,
   "metadata": {},
   "outputs": [],
   "source": [
    "con.close()\n",
    "del runs\n",
    "del sources"
   ]
  },
  {
   "cell_type": "markdown",
   "metadata": {},
   "source": [
    "## Querying the database"
   ]
  },
  {
   "cell_type": "markdown",
   "metadata": {},
   "source": [
    "Connect to the database"
   ]
  },
  {
   "cell_type": "code",
   "execution_count": 51,
   "metadata": {},
   "outputs": [],
   "source": [
    "con = sqlite3.connect(\"msdss.db\")"
   ]
  },
  {
   "cell_type": "markdown",
   "metadata": {},
   "source": [
    "Execute the SQL, using pandas' `read_sql` function."
   ]
  },
  {
   "cell_type": "code",
   "execution_count": 102,
   "metadata": {},
   "outputs": [],
   "source": [
    "result = pd.read_sql(\"\"\"\n",
    "    SELECT\n",
    "        sources.ra, sources.dec, sources.run, mjdstart\n",
    "    FROM\n",
    "        sources JOIN runs ON sources.run = runs.run\n",
    "\"\"\", con)"
   ]
  },
  {
   "cell_type": "code",
   "execution_count": 103,
   "metadata": {},
   "outputs": [
    {
     "data": {
      "text/html": [
       "<div>\n",
       "<style scoped>\n",
       "    .dataframe tbody tr th:only-of-type {\n",
       "        vertical-align: middle;\n",
       "    }\n",
       "\n",
       "    .dataframe tbody tr th {\n",
       "        vertical-align: top;\n",
       "    }\n",
       "\n",
       "    .dataframe thead th {\n",
       "        text-align: right;\n",
       "    }\n",
       "</style>\n",
       "<table border=\"1\" class=\"dataframe\">\n",
       "  <thead>\n",
       "    <tr style=\"text-align: right;\">\n",
       "      <th></th>\n",
       "      <th>ra</th>\n",
       "      <th>dec</th>\n",
       "      <th>run</th>\n",
       "      <th>mjdstart</th>\n",
       "    </tr>\n",
       "  </thead>\n",
       "  <tbody>\n",
       "    <tr>\n",
       "      <th>0</th>\n",
       "      <td>8.129444</td>\n",
       "      <td>26.626617</td>\n",
       "      <td>7757</td>\n",
       "      <td>54764.323971</td>\n",
       "    </tr>\n",
       "    <tr>\n",
       "      <th>1</th>\n",
       "      <td>8.129444</td>\n",
       "      <td>26.626617</td>\n",
       "      <td>7757</td>\n",
       "      <td>54764.323971</td>\n",
       "    </tr>\n",
       "    <tr>\n",
       "      <th>2</th>\n",
       "      <td>8.127839</td>\n",
       "      <td>26.627246</td>\n",
       "      <td>7757</td>\n",
       "      <td>54764.323971</td>\n",
       "    </tr>\n",
       "    <tr>\n",
       "      <th>3</th>\n",
       "      <td>8.127839</td>\n",
       "      <td>26.627246</td>\n",
       "      <td>7757</td>\n",
       "      <td>54764.323971</td>\n",
       "    </tr>\n",
       "    <tr>\n",
       "      <th>4</th>\n",
       "      <td>8.127323</td>\n",
       "      <td>26.625120</td>\n",
       "      <td>7757</td>\n",
       "      <td>54764.323971</td>\n",
       "    </tr>\n",
       "  </tbody>\n",
       "</table>\n",
       "</div>"
      ],
      "text/plain": [
       "         ra        dec   run      mjdstart\n",
       "0  8.129444  26.626617  7757  54764.323971\n",
       "1  8.129444  26.626617  7757  54764.323971\n",
       "2  8.127839  26.627246  7757  54764.323971\n",
       "3  8.127839  26.627246  7757  54764.323971\n",
       "4  8.127323  26.625120  7757  54764.323971"
      ]
     },
     "execution_count": 103,
     "metadata": {},
     "output_type": "execute_result"
    }
   ],
   "source": [
    "result[:5]"
   ]
  },
  {
   "cell_type": "code",
   "execution_count": 104,
   "metadata": {},
   "outputs": [],
   "source": [
    "%matplotlib inline\n",
    "import matplotlib.pyplot as plt\n",
    "plt.style.use('ggplot')"
   ]
  },
  {
   "cell_type": "markdown",
   "metadata": {},
   "source": [
    "Let's plot it!"
   ]
  },
  {
   "cell_type": "code",
   "execution_count": 122,
   "metadata": {},
   "outputs": [
    {
     "data": {
      "text/plain": [
       "Text(0,0.5,'$\\\\delta$')"
      ]
     },
     "execution_count": 122,
     "metadata": {},
     "output_type": "execute_result"
    },
    {
     "data": {
      "image/png": "[encoded data removed]",
      "text/plain": [
       "<Figure size 1008x576 with 1 Axes>"
      ]
     },
     "metadata": {},
     "output_type": "display_data"
    }
   ],
   "source": [
    "fig, ax = plt.subplots(figsize=(14,8))\n",
    "ax.scatter(result.ra, result.dec, color='r', marker='.', s=0.1)\n",
    "\n",
    "someRun = result[result.run == 125]\n",
    "ax.scatter(someRun.ra, someRun.dec, color='b', marker='.', s=1)\n",
    "\n",
    "ax.set_xlim(0, 360)\n",
    "ax.set_ylim(-30, 90)\n",
    "\n",
    "ax.set_xlabel(\"R.A.\")\n",
    "ax.set_ylabel(\"$\\delta$\")"
   ]
  },
  {
   "cell_type": "markdown",
   "metadata": {},
   "source": [
    "### Create an interactive widget that plots the points as a function of time or run number"
   ]
  }
 ],
 "metadata": {
  "kernelspec": {
   "display_name": "Python 3",
   "language": "python",
   "name": "python3"
  },
  "language_info": {
   "codemirror_mode": {
    "name": "ipython",
    "version": 3
   },
   "file_extension": ".py",
   "mimetype": "text/x-python",
   "name": "python",
   "nbconvert_exporter": "python",
   "pygments_lexer": "ipython3",
   "version": "3.6.8"
  }
 },
 "nbformat": 4,
 "nbformat_minor": 1
}
